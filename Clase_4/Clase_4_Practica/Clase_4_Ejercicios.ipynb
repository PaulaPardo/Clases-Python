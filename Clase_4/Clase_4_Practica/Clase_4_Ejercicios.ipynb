{
 "metadata": {
  "language_info": {
   "codemirror_mode": {
    "name": "ipython",
    "version": 3
   },
   "file_extension": ".py",
   "mimetype": "text/x-python",
   "name": "python",
   "nbconvert_exporter": "python",
   "pygments_lexer": "ipython3",
   "version": "3.7.4-final"
  },
  "orig_nbformat": 2,
  "kernelspec": {
   "name": "python3",
   "display_name": "Python 3"
  }
 },
 "nbformat": 4,
 "nbformat_minor": 2,
 "cells": [
  {
   "source": [
    "# Primer ejercicio"
   ],
   "cell_type": "markdown",
   "metadata": {}
  },
  {
   "source": [
    "Usar interpolación cubica de $x$ e $y$ ya definidos a continuación para obtener 100 puntos más en un rango de $-3 \\leq x \\leq 3$. Graficar en una sola gráfica los puntos originales y los 100 puntos extra encontrados con la interpolación. En otra gráfica graficar los 100 puntos hallados por interpolación y la primera derivada de los puntos de la interpolación. Pista: ver cómo se hace en la parte donde se explica splxxx en el cuaderno de Jupyter teórico. "
   ],
   "cell_type": "markdown",
   "metadata": {}
  },
  {
   "cell_type": "code",
   "execution_count": 14,
   "metadata": {},
   "outputs": [],
   "source": [
    "import numpy as np\n",
    "import matplotlib.pyplot as plt \n",
    "from scipy import interpolate\n",
    "\n",
    "x = np.array([-2.7,-2.3,-2, -1.5, -1, -0.5, 0, 0.5, 1, 1.5, 2, 2.3, 2.7])\n",
    "y = np.array([0, 0, 0.018, 0.105, 0.367, 0.778, 1.0, 0.778, 0.367, 0.105, 0.018, 0, 0])"
   ]
  },
  {
   "source": [
    "# Segundo ejercicio"
   ],
   "cell_type": "markdown",
   "metadata": {}
  },
  {
   "source": [
    "Cargar la matriz dentro del archivo Microcalcificacion.txt. Esta matriz tiene un tamaño de 20x20 (puede comprobarlo usted mismo). La idea de este ejercicio es usar interpolación cubica para obtener esta imagen pero con una mayor resolución, específicamente con una de 100x100. Graficar la imagen original y la interpolada. "
   ],
   "cell_type": "markdown",
   "metadata": {}
  },
  {
   "cell_type": "code",
   "execution_count": 37,
   "metadata": {},
   "outputs": [],
   "source": [
    "import numpy as np\n",
    "import matplotlib.pyplot as plt\n",
    "from scipy.interpolate import griddata # Nos servirá para hacer la interpolación"
   ]
  },
  {
   "source": [
    "# Tercer ejercicio"
   ],
   "cell_type": "markdown",
   "metadata": {}
  },
  {
   "source": [
    "Cargar los datos dentro del archivo de texto Datos.txt. Este archivo contiene dos columnas de datos que ambas forman una matriz. La primera columna son los valores en $x$ de un conjunto de puntos y la segunda columna los valores en $y$. Con los respectivos arrays de las posiciones en $x$ y $y$ tratar de ajustar estos puntos a la función modelo $$f(x,a,b) = ae^{-bx^2}.$$ Imprimir los valores óptimos de los parámetros $a$ y $b$, así como los errores asociados a estos parámetros. También graficar en una misma gráfica los puntos obtenidos del archivo de texto y la función modelo con los parámetros óptimos ya encontrados.\n",
    "\n",
    "Algunos tips son:\n",
    "- Para cargar los datos del archivo de texto basta con hacer: datos = np.genfromtxt(\"Datos.txt\")\n",
    "- Para obtener la primera columna de una matriz $M$ basta con hacer: M\\[:,0\\] (cogemos todas las filas pero solo la columna cero). En el caso de la segunda columna solo cambiamos el cero por un 1. \n",
    "- Ver la sección de Ajuste de Curvas en el cuaderno de Jupyter teórico"
   ],
   "cell_type": "markdown",
   "metadata": {}
  },
  {
   "cell_type": "code",
   "execution_count": 53,
   "metadata": {},
   "outputs": [],
   "source": [
    "import numpy as np\n",
    "import matplotlib.pyplot as plt \n",
    "from scipy.optimize import curve_fit"
   ]
  },
  {
   "source": [
    "# Cuarto ejercicio"
   ],
   "cell_type": "markdown",
   "metadata": {}
  },
  {
   "source": [
    "Ajustar los puntos (x,y) ya definidos abajo a un polinomio de grado 3. Imprimir el valor del polinomio en $x=8.5155$. Graficar en una misma gráfica los puntos ya dados y la gráfica del polinomio para $0\\leq x \\leq 20$."
   ],
   "cell_type": "markdown",
   "metadata": {}
  },
  {
   "cell_type": "code",
   "execution_count": 71,
   "metadata": {},
   "outputs": [],
   "source": [
    "import numpy as np \n",
    "import matplotlib.pyplot as plt \n",
    "\n",
    "x = np.array([1.5, 10.4, 15.1])\n",
    "y = np.array([2.1, 6.3, 4.6])"
   ]
  }
 ]
}